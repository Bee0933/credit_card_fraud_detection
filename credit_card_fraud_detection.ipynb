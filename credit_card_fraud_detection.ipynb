{
  "nbformat": 4,
  "nbformat_minor": 0,
  "metadata": {
    "colab": {
      "name": "credit_card_fraud_detection.ipynb",
      "provenance": [],
      "collapsed_sections": [],
      "authorship_tag": "ABX9TyN43FF35gApdxcOTD5vFgGw",
      "include_colab_link": true
    },
    "kernelspec": {
      "display_name": "Python 3",
      "name": "python3"
    },
    "language_info": {
      "name": "python"
    }
  },
  "cells": [
    {
      "cell_type": "markdown",
      "metadata": {
        "id": "view-in-github",
        "colab_type": "text"
      },
      "source": [
        "<a href=\"https://colab.research.google.com/github/Bee0933/credit_card_fraud_detection/blob/master/credit_card_fraud_detection.ipynb\" target=\"_parent\"><img src=\"https://colab.research.google.com/assets/colab-badge.svg\" alt=\"Open In Colab\"/></a>"
      ]
    },
    {
      "cell_type": "markdown",
      "metadata": {
        "id": "2qG24hSevDTl"
      },
      "source": [
        "import all libraries to be used  "
      ]
    },
    {
      "cell_type": "code",
      "metadata": {
        "id": "gnunOBcFWrig"
      },
      "source": [
        "import pandas as pd\n",
        "import numpy as np \n",
        "import matplotlib.pyplot as plt\n",
        "import seaborn as sns \n",
        "import sklearn.externals \n",
        "import joblib\n",
        "from sklearn import model_selection\n",
        "from sklearn.tree import DecisionTreeClassifier\n",
        "from sklearn.svm import SVC\n",
        "from sklearn.neighbors import KNeighborsClassifier\n",
        "from sklearn.metrics import mean_absolute_error, confusion_matrix, mean_squared_error"
      ],
      "execution_count": null,
      "outputs": []
    },
    {
      "cell_type": "markdown",
      "metadata": {
        "id": "cOwcvAdxvR5e"
      },
      "source": [
        "import creditcard dataset from google drive "
      ]
    },
    {
      "cell_type": "code",
      "metadata": {
        "id": "7UQ6CEoCaZ_0",
        "colab": {
          "base_uri": "https://localhost:8080/"
        },
        "outputId": "50dd0068-365a-47c8-c8f5-e4d84e8660ef"
      },
      "source": [
        "from google.colab import drive \n",
        "drive.mount('/content/gdrive')"
      ],
      "execution_count": null,
      "outputs": [
        {
          "output_type": "stream",
          "name": "stdout",
          "text": [
            "Mounted at /content/gdrive\n"
          ]
        }
      ]
    },
    {
      "cell_type": "code",
      "metadata": {
        "id": "s0YL9U3abCHG"
      },
      "source": [
        "from_drive = pd.read_csv('/content/gdrive/My Drive/creditcard.csv')"
      ],
      "execution_count": null,
      "outputs": []
    },
    {
      "cell_type": "markdown",
      "metadata": {
        "id": "L9Yo479GvoLZ"
      },
      "source": [
        "make copy of orignal dataset for modification "
      ]
    },
    {
      "cell_type": "code",
      "metadata": {
        "id": "Ft7eV7-pnJR6"
      },
      "source": [
        "df = from_drive.copy()"
      ],
      "execution_count": null,
      "outputs": []
    },
    {
      "cell_type": "markdown",
      "metadata": {
        "id": "QQ3_lH1CwBhe"
      },
      "source": [
        "visualization of dataset"
      ]
    },
    {
      "cell_type": "code",
      "metadata": {
        "id": "91iBNgixnP6p",
        "colab": {
          "base_uri": "https://localhost:8080/",
          "height": 226
        },
        "outputId": "bcaefb27-8aad-4d18-e334-542bbf71fef3"
      },
      "source": [
        "pd.set_option('display.max_columns', False)\n",
        "df.head()"
      ],
      "execution_count": null,
      "outputs": [
        {
          "output_type": "execute_result",
          "data": {
            "text/html": [
              "<div>\n",
              "<style scoped>\n",
              "    .dataframe tbody tr th:only-of-type {\n",
              "        vertical-align: middle;\n",
              "    }\n",
              "\n",
              "    .dataframe tbody tr th {\n",
              "        vertical-align: top;\n",
              "    }\n",
              "\n",
              "    .dataframe thead th {\n",
              "        text-align: right;\n",
              "    }\n",
              "</style>\n",
              "<table border=\"1\" class=\"dataframe\">\n",
              "  <thead>\n",
              "    <tr style=\"text-align: right;\">\n",
              "      <th></th>\n",
              "      <th>Time</th>\n",
              "      <th>V1</th>\n",
              "      <th>V2</th>\n",
              "      <th>V3</th>\n",
              "      <th>V4</th>\n",
              "      <th>V5</th>\n",
              "      <th>V6</th>\n",
              "      <th>V7</th>\n",
              "      <th>V8</th>\n",
              "      <th>V9</th>\n",
              "      <th>V10</th>\n",
              "      <th>V11</th>\n",
              "      <th>V12</th>\n",
              "      <th>V13</th>\n",
              "      <th>V14</th>\n",
              "      <th>V15</th>\n",
              "      <th>V16</th>\n",
              "      <th>V17</th>\n",
              "      <th>V18</th>\n",
              "      <th>V19</th>\n",
              "      <th>V20</th>\n",
              "      <th>V21</th>\n",
              "      <th>V22</th>\n",
              "      <th>V23</th>\n",
              "      <th>V24</th>\n",
              "      <th>V25</th>\n",
              "      <th>V26</th>\n",
              "      <th>V27</th>\n",
              "      <th>V28</th>\n",
              "      <th>Amount</th>\n",
              "      <th>Class</th>\n",
              "    </tr>\n",
              "  </thead>\n",
              "  <tbody>\n",
              "    <tr>\n",
              "      <th>0</th>\n",
              "      <td>0.0</td>\n",
              "      <td>-1.359807</td>\n",
              "      <td>-0.072781</td>\n",
              "      <td>2.536347</td>\n",
              "      <td>1.378155</td>\n",
              "      <td>-0.338321</td>\n",
              "      <td>0.462388</td>\n",
              "      <td>0.239599</td>\n",
              "      <td>0.098698</td>\n",
              "      <td>0.363787</td>\n",
              "      <td>0.090794</td>\n",
              "      <td>-0.551600</td>\n",
              "      <td>-0.617801</td>\n",
              "      <td>-0.991390</td>\n",
              "      <td>-0.311169</td>\n",
              "      <td>1.468177</td>\n",
              "      <td>-0.470401</td>\n",
              "      <td>0.207971</td>\n",
              "      <td>0.025791</td>\n",
              "      <td>0.403993</td>\n",
              "      <td>0.251412</td>\n",
              "      <td>-0.018307</td>\n",
              "      <td>0.277838</td>\n",
              "      <td>-0.110474</td>\n",
              "      <td>0.066928</td>\n",
              "      <td>0.128539</td>\n",
              "      <td>-0.189115</td>\n",
              "      <td>0.133558</td>\n",
              "      <td>-0.021053</td>\n",
              "      <td>149.62</td>\n",
              "      <td>0</td>\n",
              "    </tr>\n",
              "    <tr>\n",
              "      <th>1</th>\n",
              "      <td>0.0</td>\n",
              "      <td>1.191857</td>\n",
              "      <td>0.266151</td>\n",
              "      <td>0.166480</td>\n",
              "      <td>0.448154</td>\n",
              "      <td>0.060018</td>\n",
              "      <td>-0.082361</td>\n",
              "      <td>-0.078803</td>\n",
              "      <td>0.085102</td>\n",
              "      <td>-0.255425</td>\n",
              "      <td>-0.166974</td>\n",
              "      <td>1.612727</td>\n",
              "      <td>1.065235</td>\n",
              "      <td>0.489095</td>\n",
              "      <td>-0.143772</td>\n",
              "      <td>0.635558</td>\n",
              "      <td>0.463917</td>\n",
              "      <td>-0.114805</td>\n",
              "      <td>-0.183361</td>\n",
              "      <td>-0.145783</td>\n",
              "      <td>-0.069083</td>\n",
              "      <td>-0.225775</td>\n",
              "      <td>-0.638672</td>\n",
              "      <td>0.101288</td>\n",
              "      <td>-0.339846</td>\n",
              "      <td>0.167170</td>\n",
              "      <td>0.125895</td>\n",
              "      <td>-0.008983</td>\n",
              "      <td>0.014724</td>\n",
              "      <td>2.69</td>\n",
              "      <td>0</td>\n",
              "    </tr>\n",
              "    <tr>\n",
              "      <th>2</th>\n",
              "      <td>1.0</td>\n",
              "      <td>-1.358354</td>\n",
              "      <td>-1.340163</td>\n",
              "      <td>1.773209</td>\n",
              "      <td>0.379780</td>\n",
              "      <td>-0.503198</td>\n",
              "      <td>1.800499</td>\n",
              "      <td>0.791461</td>\n",
              "      <td>0.247676</td>\n",
              "      <td>-1.514654</td>\n",
              "      <td>0.207643</td>\n",
              "      <td>0.624501</td>\n",
              "      <td>0.066084</td>\n",
              "      <td>0.717293</td>\n",
              "      <td>-0.165946</td>\n",
              "      <td>2.345865</td>\n",
              "      <td>-2.890083</td>\n",
              "      <td>1.109969</td>\n",
              "      <td>-0.121359</td>\n",
              "      <td>-2.261857</td>\n",
              "      <td>0.524980</td>\n",
              "      <td>0.247998</td>\n",
              "      <td>0.771679</td>\n",
              "      <td>0.909412</td>\n",
              "      <td>-0.689281</td>\n",
              "      <td>-0.327642</td>\n",
              "      <td>-0.139097</td>\n",
              "      <td>-0.055353</td>\n",
              "      <td>-0.059752</td>\n",
              "      <td>378.66</td>\n",
              "      <td>0</td>\n",
              "    </tr>\n",
              "    <tr>\n",
              "      <th>3</th>\n",
              "      <td>1.0</td>\n",
              "      <td>-0.966272</td>\n",
              "      <td>-0.185226</td>\n",
              "      <td>1.792993</td>\n",
              "      <td>-0.863291</td>\n",
              "      <td>-0.010309</td>\n",
              "      <td>1.247203</td>\n",
              "      <td>0.237609</td>\n",
              "      <td>0.377436</td>\n",
              "      <td>-1.387024</td>\n",
              "      <td>-0.054952</td>\n",
              "      <td>-0.226487</td>\n",
              "      <td>0.178228</td>\n",
              "      <td>0.507757</td>\n",
              "      <td>-0.287924</td>\n",
              "      <td>-0.631418</td>\n",
              "      <td>-1.059647</td>\n",
              "      <td>-0.684093</td>\n",
              "      <td>1.965775</td>\n",
              "      <td>-1.232622</td>\n",
              "      <td>-0.208038</td>\n",
              "      <td>-0.108300</td>\n",
              "      <td>0.005274</td>\n",
              "      <td>-0.190321</td>\n",
              "      <td>-1.175575</td>\n",
              "      <td>0.647376</td>\n",
              "      <td>-0.221929</td>\n",
              "      <td>0.062723</td>\n",
              "      <td>0.061458</td>\n",
              "      <td>123.50</td>\n",
              "      <td>0</td>\n",
              "    </tr>\n",
              "    <tr>\n",
              "      <th>4</th>\n",
              "      <td>2.0</td>\n",
              "      <td>-1.158233</td>\n",
              "      <td>0.877737</td>\n",
              "      <td>1.548718</td>\n",
              "      <td>0.403034</td>\n",
              "      <td>-0.407193</td>\n",
              "      <td>0.095921</td>\n",
              "      <td>0.592941</td>\n",
              "      <td>-0.270533</td>\n",
              "      <td>0.817739</td>\n",
              "      <td>0.753074</td>\n",
              "      <td>-0.822843</td>\n",
              "      <td>0.538196</td>\n",
              "      <td>1.345852</td>\n",
              "      <td>-1.119670</td>\n",
              "      <td>0.175121</td>\n",
              "      <td>-0.451449</td>\n",
              "      <td>-0.237033</td>\n",
              "      <td>-0.038195</td>\n",
              "      <td>0.803487</td>\n",
              "      <td>0.408542</td>\n",
              "      <td>-0.009431</td>\n",
              "      <td>0.798278</td>\n",
              "      <td>-0.137458</td>\n",
              "      <td>0.141267</td>\n",
              "      <td>-0.206010</td>\n",
              "      <td>0.502292</td>\n",
              "      <td>0.219422</td>\n",
              "      <td>0.215153</td>\n",
              "      <td>69.99</td>\n",
              "      <td>0</td>\n",
              "    </tr>\n",
              "  </tbody>\n",
              "</table>\n",
              "</div>"
            ],
            "text/plain": [
              "   Time        V1        V2        V3  ...       V27       V28  Amount  Class\n",
              "0   0.0 -1.359807 -0.072781  2.536347  ...  0.133558 -0.021053  149.62      0\n",
              "1   0.0  1.191857  0.266151  0.166480  ... -0.008983  0.014724    2.69      0\n",
              "2   1.0 -1.358354 -1.340163  1.773209  ... -0.055353 -0.059752  378.66      0\n",
              "3   1.0 -0.966272 -0.185226  1.792993  ...  0.062723  0.061458  123.50      0\n",
              "4   2.0 -1.158233  0.877737  1.548718  ...  0.219422  0.215153   69.99      0\n",
              "\n",
              "[5 rows x 31 columns]"
            ]
          },
          "metadata": {},
          "execution_count": 5
        }
      ]
    },
    {
      "cell_type": "markdown",
      "metadata": {
        "id": "gqgpYpsSz4YC"
      },
      "source": [
        "Reduce Data Set size\n"
      ]
    },
    {
      "cell_type": "code",
      "metadata": {
        "colab": {
          "base_uri": "https://localhost:8080/"
        },
        "id": "DQAy68_Q06Gw",
        "outputId": "394f8379-7f0a-4060-b72c-f61b5dfa89ae"
      },
      "source": [
        "df.dtypes"
      ],
      "execution_count": null,
      "outputs": [
        {
          "output_type": "execute_result",
          "data": {
            "text/plain": [
              "Time      float64\n",
              "V1        float64\n",
              "V2        float64\n",
              "V3        float64\n",
              "V4        float64\n",
              "V5        float64\n",
              "V6        float64\n",
              "V7        float64\n",
              "V8        float64\n",
              "V9        float64\n",
              "V10       float64\n",
              "V11       float64\n",
              "V12       float64\n",
              "V13       float64\n",
              "V14       float64\n",
              "V15       float64\n",
              "V16       float64\n",
              "V17       float64\n",
              "V18       float64\n",
              "V19       float64\n",
              "V20       float64\n",
              "V21       float64\n",
              "V22       float64\n",
              "V23       float64\n",
              "V24       float64\n",
              "V25       float64\n",
              "V26       float64\n",
              "V27       float64\n",
              "V28       float64\n",
              "Amount    float64\n",
              "Class       int64\n",
              "dtype: object"
            ]
          },
          "metadata": {},
          "execution_count": 6
        }
      ]
    },
    {
      "cell_type": "code",
      "metadata": {
        "colab": {
          "base_uri": "https://localhost:8080/"
        },
        "id": "aA1rT3K7z3dE",
        "outputId": "b6e1f458-6a18-4ae8-ed55-dcc825f8da33"
      },
      "source": [
        "#change datatype size to reduce df size \n",
        "df.iloc[:, :df.shape[0]-1] = df.astype(np.float32)\n",
        "df.Class = df.Class.astype(np.int8)\n",
        "df.dtypes"
      ],
      "execution_count": null,
      "outputs": [
        {
          "output_type": "execute_result",
          "data": {
            "text/plain": [
              "Time      float32\n",
              "V1        float32\n",
              "V2        float32\n",
              "V3        float32\n",
              "V4        float32\n",
              "V5        float32\n",
              "V6        float32\n",
              "V7        float32\n",
              "V8        float32\n",
              "V9        float32\n",
              "V10       float32\n",
              "V11       float32\n",
              "V12       float32\n",
              "V13       float32\n",
              "V14       float32\n",
              "V15       float32\n",
              "V16       float32\n",
              "V17       float32\n",
              "V18       float32\n",
              "V19       float32\n",
              "V20       float32\n",
              "V21       float32\n",
              "V22       float32\n",
              "V23       float32\n",
              "V24       float32\n",
              "V25       float32\n",
              "V26       float32\n",
              "V27       float32\n",
              "V28       float32\n",
              "Amount    float32\n",
              "Class        int8\n",
              "dtype: object"
            ]
          },
          "metadata": {},
          "execution_count": 7
        }
      ]
    },
    {
      "cell_type": "markdown",
      "metadata": {
        "id": "fVMBRhJRwJg1"
      },
      "source": [
        "function to check for missing/NA values "
      ]
    },
    {
      "cell_type": "code",
      "metadata": {
        "id": "pXW3Y_5ynUVE"
      },
      "source": [
        "def na_values(frame):\n",
        "    return frame.isna().sum(), frame.isnull().values.any()\n"
      ],
      "execution_count": null,
      "outputs": []
    },
    {
      "cell_type": "code",
      "metadata": {
        "colab": {
          "base_uri": "https://localhost:8080/"
        },
        "id": "3G8qSwwRpOSq",
        "outputId": "66d2cd6e-9f8d-43ef-e177-253123230ffa"
      },
      "source": [
        "print(f'na values: {na_values(df)[0]}   empty values: {na_values(df)[1]}')\n"
      ],
      "execution_count": null,
      "outputs": [
        {
          "output_type": "stream",
          "name": "stdout",
          "text": [
            "na values: Time      0\n",
            "V1        0\n",
            "V2        0\n",
            "V3        0\n",
            "V4        0\n",
            "V5        0\n",
            "V6        0\n",
            "V7        0\n",
            "V8        0\n",
            "V9        0\n",
            "V10       0\n",
            "V11       0\n",
            "V12       0\n",
            "V13       0\n",
            "V14       0\n",
            "V15       0\n",
            "V16       0\n",
            "V17       0\n",
            "V18       0\n",
            "V19       0\n",
            "V20       0\n",
            "V21       0\n",
            "V22       0\n",
            "V23       0\n",
            "V24       0\n",
            "V25       0\n",
            "V26       0\n",
            "V27       0\n",
            "V28       0\n",
            "Amount    0\n",
            "Class     0\n",
            "dtype: int64   empty values: False\n"
          ]
        }
      ]
    },
    {
      "cell_type": "markdown",
      "metadata": {
        "id": "jpuWuMnMwigz"
      },
      "source": [
        "check for categorical data and visualize it -- but in this case all features are regressive/continous   "
      ]
    },
    {
      "cell_type": "code",
      "metadata": {
        "id": "WqyiY4jDn59m"
      },
      "source": [
        "for column in df.columns:\n",
        "    if df[column].dtype == object: # categorical data are representd as objects -- check with '.dtype' statement  \n",
        "        print(df[column].unique()) #returns sumary of values in a category \n",
        "        print(df[column].value_count())"
      ],
      "execution_count": null,
      "outputs": []
    },
    {
      "cell_type": "code",
      "metadata": {
        "colab": {
          "base_uri": "https://localhost:8080/"
        },
        "id": "t44K4FtOpHyA",
        "outputId": "000aaed0-162c-4be9-c4ca-b1169c9022bf"
      },
      "source": [
        "#brief ststistics on the dataset \n",
        "print(df.describe())"
      ],
      "execution_count": null,
      "outputs": [
        {
          "output_type": "stream",
          "name": "stdout",
          "text": [
            "                Time            V1  ...         Amount          Class\n",
            "count  284807.000000  2.848070e+05  ...  284807.000000  284807.000000\n",
            "mean    94812.664062 -6.765166e-07  ...      88.322945       0.001727\n",
            "std     47487.195312  1.958611e+00  ...     250.071564       0.041527\n",
            "min         0.000000 -5.640751e+01  ...       0.000000       0.000000\n",
            "25%     54201.500000 -9.203734e-01  ...       5.600000       0.000000\n",
            "50%     84692.000000  1.810880e-02  ...      22.000000       0.000000\n",
            "75%    139320.500000  1.315642e+00  ...      77.165001       0.000000\n",
            "max    172792.000000  2.454930e+00  ...   25691.160156       1.000000\n",
            "\n",
            "[8 rows x 31 columns]\n"
          ]
        }
      ]
    },
    {
      "cell_type": "markdown",
      "metadata": {
        "id": "g0GQg0lU1JpO"
      },
      "source": [
        "chek for matching features using the correlation funtion "
      ]
    },
    {
      "cell_type": "code",
      "metadata": {
        "id": "QQGG0SB5uBvI",
        "colab": {
          "base_uri": "https://localhost:8080/"
        },
        "outputId": "dbc98d42-2ae2-4730-df00-5328e36dd58b"
      },
      "source": [
        "#check for correlated features to avoid using similar dataset features that would confuse your algorithm\n",
        "correlation_view = df.corr()\n",
        "print(correlation_view)"
      ],
      "execution_count": null,
      "outputs": [
        {
          "output_type": "stream",
          "name": "stdout",
          "text": [
            "            Time            V1            V2  ...           V28    Amount     Class\n",
            "Time    1.000000  1.173963e-01 -1.059333e-02  ... -9.412688e-03 -0.010596 -0.012323\n",
            "V1      0.117396  1.000000e+00 -1.434458e-10  ... -6.581722e-10 -0.227709 -0.101347\n",
            "V2     -0.010593 -1.434458e-10  1.000000e+00  ... -9.894851e-10 -0.531409  0.091289\n",
            "V3     -0.419618  9.352130e-11  2.206431e-10  ... -2.291611e-10 -0.210880 -0.192961\n",
            "V4     -0.105260  4.361167e-11  1.418380e-10  ...  2.875709e-10  0.098732  0.133447\n",
            "V5      0.173072  2.734343e-10  7.482466e-10  ...  5.806698e-10 -0.386356 -0.094974\n",
            "V6     -0.063016  6.668705e-11 -4.452510e-10  ... -3.203046e-10  0.215981 -0.043643\n",
            "V7      0.084714  1.600768e-12 -8.202219e-10  ...  4.271452e-10  0.397311 -0.187257\n",
            "V8     -0.036949 -1.130106e-10 -2.659411e-10  ...  5.912647e-10 -0.103079  0.019875\n",
            "V9     -0.008660 -2.198748e-10 -1.494593e-10  ... -1.213193e-10 -0.044246 -0.097733\n",
            "V10     0.030617 -1.856517e-10 -2.897835e-11  ...  1.170881e-10 -0.101502 -0.216883\n",
            "V11    -0.247689  1.015568e-10 -6.855233e-11  ...  4.089986e-11  0.000104  0.154876\n",
            "V12     0.124348  1.013150e-10 -1.842075e-10  ...  8.221093e-11 -0.009542 -0.260593\n",
            "V13    -0.065902 -1.240832e-11 -3.735202e-11  ... -9.371161e-11  0.005293 -0.004570\n",
            "V14    -0.098757 -1.266789e-10  2.154361e-10  ...  1.229278e-10  0.033751 -0.302544\n",
            "V15    -0.183453 -6.569792e-12 -7.631409e-11  ...  9.534323e-11 -0.002986 -0.004223\n",
            "V16     0.011903 -7.423651e-11  9.566227e-12  ... -1.306474e-10 -0.003910 -0.196539\n",
            "V17    -0.073297 -1.366451e-10  1.680150e-10  ... -1.254783e-11  0.007309 -0.326481\n",
            "V18     0.090438 -9.752105e-11 -1.157556e-10  ... -2.434494e-11  0.035650 -0.111485\n",
            "V19     0.028975  1.103137e-10  3.310352e-11  ...  3.600056e-11 -0.056151  0.034783\n",
            "V20    -0.050866 -9.697367e-10 -8.602818e-10  ... -4.541066e-11  0.339403  0.020090\n",
            "V21     0.044736 -3.929141e-10 -3.530639e-10  ...  3.909780e-11  0.105999  0.040413\n",
            "V22     0.144059  1.638968e-10  2.473512e-10  ... -1.689557e-10 -0.064801  0.000805\n",
            "V23     0.051142 -1.661601e-10 -5.409315e-10  ... -5.215082e-10 -0.112633 -0.002685\n",
            "V24    -0.016182 -4.835593e-11 -4.810721e-11  ... -5.959938e-11  0.005146 -0.007221\n",
            "V25    -0.233083 -1.025312e-10 -1.621216e-10  ... -1.050465e-10 -0.047837  0.003308\n",
            "V26    -0.041407 -2.352799e-11  1.303412e-10  ... -2.413303e-11 -0.003208  0.004455\n",
            "V27    -0.005135 -3.638516e-11 -2.792501e-10  ...  4.597109e-10  0.028825  0.017580\n",
            "V28    -0.009413 -6.581722e-10 -9.894851e-10  ...  1.000000e+00  0.010258  0.009536\n",
            "Amount -0.010596 -2.277087e-01 -5.314089e-01  ...  1.025822e-02  1.000000  0.005632\n",
            "Class  -0.012323 -1.013473e-01  9.128865e-02  ...  9.536041e-03  0.005632  1.000000\n",
            "\n",
            "[31 rows x 31 columns]\n"
          ]
        }
      ]
    },
    {
      "cell_type": "code",
      "metadata": {
        "id": "evdPocKwuUSG",
        "colab": {
          "base_uri": "https://localhost:8080/",
          "height": 1000
        },
        "outputId": "c3026e5f-7982-4456-9968-ded78ec1d926"
      },
      "source": [
        "plt.figure(figsize=(18,18))\n",
        "sns.heatmap(correlation_view, annot=True, fmt='.0%')\n",
        "#The correlation values tend to be minimal so we can work with it "
      ],
      "execution_count": null,
      "outputs": [
        {
          "output_type": "execute_result",
          "data": {
            "text/plain": [
              "<matplotlib.axes._subplots.AxesSubplot at 0x7f5ee76f5f90>"
            ]
          },
          "metadata": {},
          "execution_count": 13
        },
        {
          "output_type": "display_data",
          "data": {
            "image/png": "[encoded data removed]",
            "text/plain": [
              "<Figure size 1296x1296 with 2 Axes>"
            ]
          },
          "metadata": {
            "needs_background": "light"
          }
        }
      ]
    },
    {
      "cell_type": "markdown",
      "metadata": {
        "id": "NwFrWSJc2oR6"
      },
      "source": [
        "selecting features and labels "
      ]
    },
    {
      "cell_type": "code",
      "metadata": {
        "id": "Yx1-O2jeoHfS"
      },
      "source": [
        "X_val = df.drop('Class', axis=1)\n",
        "y_val = df.Class\n",
        "\n",
        "\n",
        "#seperating training data from validation data with a test size of 20%\n",
        "XTrain, XTest, yTrain, yTest = model_selection.train_test_split(X_val,y_val, test_size=0.2, random_state=0)\n",
        "\n",
        "#ML models i would use to classify my data \n",
        "models = { 'kNN' : KNeighborsClassifier(),\n",
        "           'SVC' : SVC(),\n",
        "           'DecisionTreeClassifier' : DecisionTreeClassifier()\n",
        "}"
      ],
      "execution_count": null,
      "outputs": []
    },
    {
      "cell_type": "markdown",
      "metadata": {
        "id": "7ZZah9RF3Z_j"
      },
      "source": [
        "Training and validating to choose a more accurate model"
      ]
    },
    {
      "cell_type": "code",
      "metadata": {
        "colab": {
          "base_uri": "https://localhost:8080/"
        },
        "id": "VOG6LUhyokzf",
        "outputId": "76d325f2-4006-4830-d61f-65e373a50b80"
      },
      "source": [
        "for name, model in models.items():  #iterating through my imported models present in the dictionary 'models'\n",
        "    #training each model\n",
        "    model.fit(XTrain,yTrain)\n",
        "    #predict for train and test models to check for underfitting and overfitting     \n",
        "    pred_train = model.predict(XTrain)  \n",
        "    pred_test = model.predict(XTest)\n",
        "    #validation result for each model using MAE  \n",
        "    mae_train = mean_absolute_error(yTrain, pred_train)\n",
        "    mae_test = mean_absolute_error(yTest, pred_test)\n",
        "    print(f'{name} model : \\n  MAE train: {mae_train}  MAE test : {mae_test}')\n"
      ],
      "execution_count": null,
      "outputs": [
        {
          "output_type": "stream",
          "name": "stdout",
          "text": [
            "kNN model : \n",
            "  MAE train: 0.0015185762250652856  MAE test : 0.0016853340823707033\n",
            "SVC model : \n",
            "  MAE train: 0.0017160789132963199  MAE test : 0.001773111899160844\n",
            "DecisionTreeClassifier model : \n",
            "  MAE train: 0.0  MAE test : 0.000772444787753239\n"
          ]
        }
      ]
    },
    {
      "cell_type": "markdown",
      "metadata": {
        "id": "IKsBleEBqKSS"
      },
      "source": [
        "The decisionTreeClassifier model is quite efficient - lets try more leafs to minimise underfitting and overfitting "
      ]
    },
    {
      "cell_type": "code",
      "metadata": {
        "colab": {
          "base_uri": "https://localhost:8080/"
        },
        "id": "joQkkx3Fqfbg",
        "outputId": "6ae67a44-9811-4f6f-de48-afabbf30b218"
      },
      "source": [
        "max_leaf = [5,50,500,5000] #assumed numbers of leafs that would work well \n",
        "\n",
        "#function to return better validation result \n",
        "def return_mae(leafs, xTrain,xTest,yTrain,yTest):\n",
        "  for leaf in leafs:\n",
        "    model = DecisionTreeClassifier(max_leaf_nodes=leaf, random_state=0)\n",
        "    model.fit(xTrain,yTrain)\n",
        "    pred_train = model.predict(xTrain)\n",
        "    pred_test = model.predict(xTest)\n",
        "    mae_train = mean_absolute_error(yTrain, pred_train)\n",
        "    mae_test = mean_absolute_error(yTest, pred_test)\n",
        "    print(f'{str(leaf)} leafs model : \\n  MAE train: {mae_train}  MAE test : {mae_test}')\n",
        "  \n",
        "return_mae(max_leaf,XTrain, XTest, yTrain, yTest)"
      ],
      "execution_count": null,
      "outputs": [
        {
          "output_type": "stream",
          "name": "stdout",
          "text": [
            "5 leafs model : \n",
            "  MAE train: 0.0006934538831222981  MAE test : 0.0007548892243952109\n",
            "50 leafs model : \n",
            "  MAE train: 0.0002326142772498848  MAE test : 0.0005968891541729574\n",
            "500 leafs model : \n",
            "  MAE train: 0.0  MAE test : 0.0007548892243952109\n",
            "5000 leafs model : \n",
            "  MAE train: 0.0  MAE test : 0.0007548892243952109\n"
          ]
        }
      ]
    },
    {
      "cell_type": "markdown",
      "metadata": {
        "id": "hbENZqn55561"
      },
      "source": [
        "using  max of 50 leafs works better with minimal result <br> \n",
        "max leafs of  5 is quite good too <br>\n",
        "but 500 and 5000 suffers from overfitting of the data <br> \n",
        "<br>\n",
        "so max leaf of 50 is the best for now "
      ]
    },
    {
      "cell_type": "code",
      "metadata": {
        "id": "-N5MmrGj6AK7"
      },
      "source": [
        "model = DecisionTreeClassifier(max_leaf_nodes=50, random_state=0)\n",
        "model.fit(XTrain,yTrain)\n",
        "\n",
        "\n",
        "pred_test = model.predict(XTest)\n",
        "mae_test = mean_absolute_error(yTest, pred_test)"
      ],
      "execution_count": null,
      "outputs": []
    },
    {
      "cell_type": "markdown",
      "metadata": {
        "id": "zBJSb-F58xmo"
      },
      "source": [
        "more validation with confussion matrix"
      ]
    },
    {
      "cell_type": "code",
      "metadata": {
        "colab": {
          "base_uri": "https://localhost:8080/"
        },
        "id": "HIFrOTBA8tUL",
        "outputId": "79a9eb26-e31a-4d6d-dca3-45142705c44e"
      },
      "source": [
        "cm = confusion_matrix(yTest, pred_test)\n",
        "\n",
        "#true negative \n",
        "#true positive \n",
        "#false negetive \n",
        "#false positive \n",
        "\n",
        "TN = cm[0][0]\n",
        "TP = cm[1][1]\n",
        "FN = cm[0][1]\n",
        "FP = cm[1][0]\n",
        "\n",
        "accuracy = ((TP + TN )/ (TP + TN + FN + FP))\n",
        "\n",
        "cm"
      ],
      "execution_count": null,
      "outputs": [
        {
          "output_type": "execute_result",
          "data": {
            "text/plain": [
              "array([[56850,    11],\n",
              "       [   23,    78]])"
            ]
          },
          "metadata": {},
          "execution_count": 18
        }
      ]
    },
    {
      "cell_type": "code",
      "metadata": {
        "colab": {
          "base_uri": "https://localhost:8080/"
        },
        "id": "mwyPx3hB--_z",
        "outputId": "300ba489-c99d-40b5-c74f-c9991fdbaa10"
      },
      "source": [
        "print(f'accuracy  = {np.round(accuracy*100,2)}%')"
      ],
      "execution_count": null,
      "outputs": [
        {
          "output_type": "stream",
          "name": "stdout",
          "text": [
            "accuracy  = 99.94%\n"
          ]
        }
      ]
    },
    {
      "cell_type": "markdown",
      "metadata": {
        "id": "QgT9IgLb-Q1m"
      },
      "source": [
        "its a good accuracy -- pls try other models to see the accuracy score "
      ]
    },
    {
      "cell_type": "code",
      "metadata": {
        "colab": {
          "base_uri": "https://localhost:8080/"
        },
        "id": "geXDtqtbAl8N",
        "outputId": "e20da536-bf06-4d0f-ebe0-629ae4cf7319"
      },
      "source": [
        "#saving the trained model state \n",
        "file_name = 'trained_creditcard_fraud_detection.sav'\n",
        "deploy_model = model\n",
        "joblib.dump(deploy_model, filename=file_name)"
      ],
      "execution_count": null,
      "outputs": [
        {
          "output_type": "execute_result",
          "data": {
            "text/plain": [
              "['trained_creditcard_fraud_detection.sav']"
            ]
          },
          "metadata": {},
          "execution_count": 20
        }
      ]
    }
  ]
}